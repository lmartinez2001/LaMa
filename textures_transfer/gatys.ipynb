{
 "cells": [
  {
   "attachments": {},
   "cell_type": "markdown",
   "metadata": {},
   "source": [
    "# Texture synthesis (Gatys)"
   ]
  },
  {
   "cell_type": "code",
   "execution_count": 1,
   "metadata": {},
   "outputs": [],
   "source": [
    "import torch\n",
    "import torch.nn as nn\n",
    "import torch.optim as optim\n",
    "from torchvision.models import vgg19\n",
    "from torchvision.transforms import ToTensor\n",
    "from PIL import Image\n",
    "from IPython.display import clear_output, display\n",
    "from time import sleep"
   ]
  },
  {
   "cell_type": "code",
   "execution_count": 2,
   "metadata": {},
   "outputs": [],
   "source": [
    "class TextureSynthesisNetwork(nn.Module):\n",
    "    def __init__(self, layers):\n",
    "        super(TextureSynthesisNetwork, self).__init__()\n",
    "        self.vgg = vgg19(pretrained=True).features[:layers].eval()\n",
    "\n",
    "        # Disable grad\n",
    "        for param in self.vgg.parameters():\n",
    "            param.requires_grad = False\n",
    "\n",
    "    def forward(self, x):\n",
    "        features = []\n",
    "        for layer in self.vgg:\n",
    "            x = layer(x)\n",
    "            features.append(x)\n",
    "        return features\n",
    "\n",
    "device = torch.device(\"cuda\" if torch.cuda.is_available() else \"cpu\")"
   ]
  },
  {
   "cell_type": "code",
   "execution_count": 3,
   "metadata": {},
   "outputs": [],
   "source": [
    "def texture_synthesis(image, layers, iterations, learning_rate):\n",
    "    image = image.unsqueeze(0).to(device)\n",
    "    synthesized_image = torch.randn_like(image, requires_grad=True).to(device)\n",
    "\n",
    "    criterion = nn.MSELoss()\n",
    "    optimizer = optim.Adam([synthesized_image], lr=learning_rate)\n",
    "\n",
    "    network = TextureSynthesisNetwork(layers).to(device)\n",
    "\n",
    "    for i in range(iterations):\n",
    "\n",
    "\n",
    "        clear_output(wait=True) \n",
    "        print(f'Iteration {i + 1}/{iterations}')\n",
    "        sleep(10)\n",
    "\n",
    "        optimizer.zero_grad()\n",
    "        features_image = network(image)\n",
    "        features_synthesized = network(synthesized_image)\n",
    "\n",
    "        if i%10==0:\n",
    "            Image.fromarray((torch.clamp(synthesized_image.squeeze(0), 0, 1).detach().squeeze(0).numpy().transpose(1,2,0) * 255).astype('uint8')).show()\n",
    "\n",
    "        loss = 0.0\n",
    "        for f_image, f_synthesized in zip(features_image, features_synthesized):\n",
    "            loss += criterion(f_synthesized, f_image)\n",
    "\n",
    "        loss.backward()\n",
    "        optimizer.step()\n",
    "\n",
    "        if (i + 1) % 100 == 0:\n",
    "            print(f\"Iteration {i + 1}/{iterations}, Loss: {loss.item()}\")\n",
    "\n",
    "    return synthesized_image.squeeze(0)"
   ]
  },
  {
   "cell_type": "code",
   "execution_count": 22,
   "metadata": {},
   "outputs": [],
   "source": [
    "from skimage.io import imread"
   ]
  },
  {
   "cell_type": "code",
   "execution_count": 24,
   "metadata": {},
   "outputs": [
    {
     "name": "stdout",
     "output_type": "stream",
     "text": [
      "Iteration 70/70\n"
     ]
    }
   ],
   "source": [
    "# input_image = Image.open(\"bookshelf.png\")\n",
    "input_image = imread(\"bookshelf.png\")[...,:3]\n",
    "# input_tensor = ToTensor()(input_image).unsqueeze(0)\n",
    "input_tensor = ToTensor()(input_image)\n",
    "\n",
    "# Texture parameters\n",
    "layers = 5 \n",
    "iterations = 170 \n",
    "learning_rate = 0.1 \n",
    "\n",
    "\n",
    "synthesized_texture = texture_synthesis(input_tensor, layers, iterations, learning_rate)\n",
    "\n",
    "\n",
    "synthesized_image = torch.clamp(synthesized_texture, 0, 1).detach().squeeze(0).numpy().transpose(1, 2, 0)\n",
    "synthesized_image = Image.fromarray((synthesized_image * 255).astype(\"uint8\"))\n",
    "\n",
    "\n",
    "synthesized_image.show()"
   ]
  },
  {
   "cell_type": "code",
   "execution_count": 5,
   "metadata": {},
   "outputs": [],
   "source": [
    "input_image = Image.open(\"bookshelf.png\")"
   ]
  },
  {
   "cell_type": "code",
   "execution_count": 7,
   "metadata": {},
   "outputs": [],
   "source": [
    "in_tensor = ToTensor()(input_image)"
   ]
  },
  {
   "cell_type": "code",
   "execution_count": 19,
   "metadata": {},
   "outputs": [],
   "source": [
    "test = imread(\"bookshelf.png\")[..., :3]"
   ]
  },
  {
   "cell_type": "code",
   "execution_count": 20,
   "metadata": {},
   "outputs": [],
   "source": [
    "test = ToTensor()(test)"
   ]
  }
 ],
 "metadata": {
  "kernelspec": {
   "display_name": "main-venv",
   "language": "python",
   "name": "python3"
  },
  "language_info": {
   "codemirror_mode": {
    "name": "ipython",
    "version": 3
   },
   "file_extension": ".py",
   "mimetype": "text/x-python",
   "name": "python",
   "nbconvert_exporter": "python",
   "pygments_lexer": "ipython3",
   "version": "3.10.2"
  },
  "orig_nbformat": 4
 },
 "nbformat": 4,
 "nbformat_minor": 2
}
